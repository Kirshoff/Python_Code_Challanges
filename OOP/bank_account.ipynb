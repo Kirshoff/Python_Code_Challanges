{
 "cells": [
  {
   "cell_type": "markdown",
   "id": "whole-standard",
   "metadata": {},
   "source": [
    "Para yatırma ve çekme yöntemlerinin her biri hesap bakiyesini değiştirir. Para çekme yöntemi, para çekme işlemi (herhangi bir ücretten önce) negatif bakiye ile sonuçlanırsa, bakiyeden 5 dolarlık bir ücret keser. Ayrıca get_fees yöntemimiz de olduğundan, ödenen ücretleri takip etmek için bir değişkene ihtiyacınız olacak. İşte sınıfın olası bir testi. Para çekme işlemi 5 dolar ücrete tabi olduğundan, sırasıyla 10 ve 5 değerlerini yazdırmalıdır."
   ]
  },
  {
   "cell_type": "code",
   "execution_count": 8,
   "id": "christian-sunrise",
   "metadata": {},
   "outputs": [
    {
     "name": "stdout",
     "output_type": "stream",
     "text": [
      "\n",
      "Net Available Balance = 10 \n",
      "Total Fees = 5\n",
      "\n",
      "Net Available Balance = -70 \n",
      "Total Fees = 85\n"
     ]
    }
   ],
   "source": [
    "class BankAccount:\n",
    "\n",
    "    '''Complete the methods below'''\n",
    "    total_fees=0\n",
    "# \n",
    "    def __init__(self, initial_balance):\n",
    "        \"\"\"Creates an account with the given balance.\"\"\"\n",
    "        self.initial_balance=initial_balance\n",
    "\n",
    "    def deposit(self, amount):\n",
    "        \"\"\"Deposits the amount into the account.\"\"\"\n",
    "        self.initial_balance += amount \n",
    "\n",
    "    def withdraw(self, amount):\n",
    "        \"\"\"\n",
    "        Withdraws the amount from the account. Each withdrawal \n",
    "        resulting in a negative balance also deducts a penalty \n",
    "        fee of 5 dollars from the balance.\n",
    "        \"\"\"\n",
    "        self.initial_balance -= amount \n",
    "        if self.initial_balance < amount: \n",
    "            self.initial_balance -= 5 \n",
    "            self.total_fees+=5\n",
    "\n",
    "    def get_balance(self):\n",
    "        \"\"\"Returns the current balance in the account.\"\"\"\n",
    "        return f\"\\nNet Available Balance = {self.initial_balance}\" \n",
    "\n",
    "    def get_fees(self):\n",
    "        return f\"\\nTotal Fees = {self.total_fees}\"\n",
    "\n",
    "########## Test your code by uncommenting the 4 lines below ########\n",
    "'''  Test output should be that 10 and 5 are printed.  '''\n",
    "\n",
    "my_account = BankAccount(10)\n",
    "my_account.withdraw(15)\n",
    "my_account.deposit(20)\n",
    "print (my_account.get_balance(), my_account.get_fees())\n",
    "\n",
    "\n",
    "\n",
    "######### Once your code passes the test, uncomment ########\n",
    "######### the following 44 lines (all lines below)  ########\n",
    "my_account = BankAccount(10)\n",
    "my_account.withdraw(5)\n",
    "my_account.deposit(10)\n",
    "my_account.withdraw(5)\n",
    "my_account.withdraw(15)\n",
    "my_account.deposit(20)\n",
    "my_account.withdraw(5)\n",
    "my_account.deposit(10)\n",
    "my_account.deposit(20)\n",
    "my_account.withdraw(15)\n",
    "my_account.deposit(30)\n",
    "my_account.withdraw(10)\n",
    "my_account.withdraw(15)\n",
    "my_account.deposit(10)\n",
    "my_account.withdraw(50)\n",
    "my_account.deposit(30)\n",
    "my_account.withdraw(15)\n",
    "my_account.deposit(10)\n",
    "my_account.withdraw(5)\n",
    "my_account.deposit(20)\n",
    "my_account.withdraw(15)\n",
    "my_account.deposit(10)\n",
    "my_account.deposit(30)\n",
    "my_account.withdraw(25)\n",
    "my_account.withdraw(5)\n",
    "my_account.deposit(10)\n",
    "my_account.withdraw(15)\n",
    "my_account.deposit(10)\n",
    "my_account.withdraw(10)\n",
    "my_account.withdraw(15)\n",
    "my_account.deposit(10)\n",
    "my_account.deposit(30)\n",
    "my_account.withdraw(25)\n",
    "my_account.withdraw(10)\n",
    "my_account.deposit(20)\n",
    "my_account.deposit(10)\n",
    "my_account.withdraw(5)\n",
    "my_account.withdraw(15)\n",
    "my_account.deposit(10)\n",
    "my_account.withdraw(5)\n",
    "my_account.withdraw(15)\n",
    "my_account.deposit(10)\n",
    "my_account.withdraw(5)\n",
    "print (my_account.get_balance(), my_account.get_fees())"
   ]
  },
  {
   "cell_type": "code",
   "execution_count": null,
   "id": "empty-oregon",
   "metadata": {},
   "outputs": [],
   "source": []
  },
  {
   "cell_type": "code",
   "execution_count": null,
   "id": "careful-language",
   "metadata": {},
   "outputs": [],
   "source": []
  }
 ],
 "metadata": {
  "kernelspec": {
   "display_name": "Python 3",
   "language": "python",
   "name": "python3"
  },
  "language_info": {
   "codemirror_mode": {
    "name": "ipython",
    "version": 3
   },
   "file_extension": ".py",
   "mimetype": "text/x-python",
   "name": "python",
   "nbconvert_exporter": "python",
   "pygments_lexer": "ipython3",
   "version": "3.8.5"
  }
 },
 "nbformat": 4,
 "nbformat_minor": 5
}
