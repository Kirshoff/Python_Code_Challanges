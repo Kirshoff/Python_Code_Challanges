{
 "cells": [
  {
   "cell_type": "markdown",
   "id": "known-antibody",
   "metadata": {},
   "source": [
    "# 1_class,object.py"
   ]
  },
  {
   "cell_type": "code",
   "execution_count": 3,
   "id": "indirect-crash",
   "metadata": {},
   "outputs": [
    {
     "name": "stdout",
     "output_type": "stream",
     "text": [
      "<__main__.employee object at 0x0000019A084A58B0>\n",
      "Fatih Fidan fatihfidan@sirket.com\n",
      "Ad:Fatih Soyad:Fidan\n",
      "Ad:Serap Soyad:Çelik\n",
      "Ad:Serap Soyad:Çelik\n",
      "1.05\n",
      "1.05\n",
      "1.05\n"
     ]
    }
   ],
   "source": [
    "class employee:\n",
    "    salary_increase_coefficient=1.05\n",
    "    def __init__(self,name,surname,salary):\n",
    "        self.ad=name\n",
    "        self.soyad=surname\n",
    "        self.maaş=salary\n",
    "        self.eposta=(self.ad+self.soyad).lower()+\"@sirket.com\"\n",
    "\n",
    "    def fullName(self):\n",
    "        return f\"Ad:{self.ad} Soyad:{self.soyad}\"\n",
    "\n",
    "\n",
    "personal1=employee(\"Fatih\",\"Fidan\",\"5000\")\n",
    "personal2=employee(\"Serap\",\"Çelik\",\"4000\")\n",
    "\n",
    "print(personal1)\n",
    "print(personal1.ad,personal1.soyad,personal1.eposta)\n",
    "\n",
    "print(personal1.fullName())\n",
    "\n",
    "print(personal2.fullName()) # veya\n",
    "print(employee.fullName(personal2))\n",
    "\n",
    "print(employee.salary_increase_coefficient) # veya\n",
    "print(personal1.salary_increase_coefficient)\n",
    "print(personal2.salary_increase_coefficient)"
   ]
  },
  {
   "cell_type": "markdown",
   "id": "falling-apartment",
   "metadata": {},
   "source": [
    "# 2_class,object.py"
   ]
  },
  {
   "cell_type": "code",
   "execution_count": 2,
   "id": "northern-twenty",
   "metadata": {},
   "outputs": [
    {
     "name": "stdout",
     "output_type": "stream",
     "text": [
      "Fatih Fidan 5000\n",
      "Fatih Fidan 5250.0\n",
      "Serap Çelik 4400.0\n",
      "Personel Sayısı: 2\n"
     ]
    }
   ],
   "source": [
    "class employee :\n",
    "    salary_increase_coefficient = 1.05\n",
    "    stuff_num = 0\n",
    "\n",
    "    def __init__ (self , name , surname , salary) :\n",
    "        self.name = name\n",
    "        self.surname = surname\n",
    "        self.salary = salary\n",
    "        self.email = (self.name + self.surname).lower ( ) + \"@sirket.com\"\n",
    "        employee.stuff_num += 1\n",
    "\n",
    "    def fullName (self) :\n",
    "        return f\"Ad:{self.name} Soyad:{self.surname}\"\n",
    "\n",
    "    def salary_hike (self) :\n",
    "        self.salary *= self.salary_increase_coefficient\n",
    "\n",
    "\n",
    "personal1 = employee ( \"Fatih\" , \"Fidan\" , 5000 )\n",
    "personal2 = employee ( \"Serap\" , \"Çelik\" , 4000 )\n",
    "\n",
    "print ( personal1.name , personal1.surname , personal1.salary )\n",
    "employee.salary_hike ( personal1 )\n",
    "print ( personal1.name , personal1.surname , personal1.salary )\n",
    "\n",
    "personal2.salary_increase_coefficient = 1.1         # class variable'ı personel2 için değiştirebiliriz.\n",
    "# personal2.salary_hike ( ) # veya\n",
    "employee.salary_hike ( personal2 )\n",
    "print ( personal2.name , personal2.surname , personal2.salary )\n",
    "\n",
    "print( f\"Personel Sayısı: {employee.stuff_num}\")  #init metodu içinden tanımlanan obje sayısını izleyebiliriz."
   ]
  },
  {
   "cell_type": "markdown",
   "id": "mobile-necklace",
   "metadata": {},
   "source": [
    "# 3_inheritance_1.py"
   ]
  },
  {
   "cell_type": "code",
   "execution_count": 4,
   "id": "fifteen-buyer",
   "metadata": {},
   "outputs": [
    {
     "name": "stdout",
     "output_type": "stream",
     "text": [
      "animal\n",
      "animal walks\n",
      "-------------\n",
      "animal\n",
      "animal walks\n",
      "animal climps\n",
      "-------------\n",
      "animal\n",
      "animal walks\n",
      "birds fly\n",
      "-------------\n"
     ]
    }
   ],
   "source": [
    "class Animal(object):\n",
    "    def __init__(self):\n",
    "        print(\"animal\")\n",
    "\n",
    "    def walk( self ):\n",
    "        print(\"animal walks\")\n",
    "\n",
    "class Monkey(Animal):\n",
    "    def __init__(self):\n",
    "        super().__init__()\n",
    "\n",
    "    def climb( self ):\n",
    "        print(\"animal climps\")\n",
    "\n",
    "class Bird(Animal):\n",
    "    def __init__(self):\n",
    "        super().__init__()\n",
    "\n",
    "    def fly( self ):\n",
    "        print(\"birds fly\")\n",
    "\n",
    "m1=Animal()\n",
    "m1.walk()\n",
    "print(\"-------------\")\n",
    "m2=Monkey()\n",
    "m2.walk()\n",
    "m2.climb()\n",
    "print(\"-------------\")\n",
    "m3=Bird()\n",
    "m3.walk()\n",
    "m3.fly()\n",
    "print(\"-------------\")"
   ]
  },
  {
   "cell_type": "markdown",
   "id": "presidential-trace",
   "metadata": {},
   "source": [
    "# 4_inheritance_2_super&sub_class.py"
   ]
  },
  {
   "cell_type": "code",
   "execution_count": 5,
   "id": "spectacular-clear",
   "metadata": {},
   "outputs": [
    {
     "name": "stdout",
     "output_type": "stream",
     "text": [
      "Ad:Bill Soyad:Gates Python 7000\n",
      "8400.0\n",
      "Ad:Steve Soyad:Jobs\n",
      "\n",
      "Ad:Bill Soyad:Gates\n",
      "Ad:Fatih Soyad:Fidan\n",
      "\n",
      "Ad:Bill Soyad:Gates\n",
      "Ad:Fatih Soyad:Fidan\n",
      "Ad:Serap Soyad:Çelik\n",
      "\n",
      "Ad:Fatih Soyad:Fidan\n",
      "Ad:Serap Soyad:Çelik\n"
     ]
    }
   ],
   "source": [
    "class employee ():                      # super class\n",
    "    salary_increase_coefficient = 1.05\n",
    "    stuff_num = 0\n",
    "\n",
    "    def __init__ (self , name , surname , salary) :\n",
    "        self.name = name\n",
    "        self.surname = surname\n",
    "        self.salary = salary\n",
    "        self.email = (self.name + self.surname).lower ( ) + \"@sirket.com\"\n",
    "        employee.stuff_num += 1\n",
    "\n",
    "    def fullName (self) :\n",
    "        return f\"Ad:{self.name} Soyad:{self.surname}\"\n",
    "\n",
    "    def salary_hike (self) :\n",
    "        self.salary *= self.salary_increase_coefficient\n",
    "\n",
    "    @classmethod\n",
    "    def change_salary_inc_coef (cls , new_rate) :\n",
    "        cls.salary_increase_coefficient = new_rate\n",
    "\n",
    "    @classmethod\n",
    "    def new_staff (cls , stuff_info) :\n",
    "        name , surname , salary = stuff_info.split ( \"-\" )\n",
    "        return cls ( name , surname , int ( salary ) )\n",
    "\n",
    "    @staticmethod\n",
    "    def clear_blank (text) :\n",
    "        return text.replace ( \" \" , \"\" )\n",
    "\n",
    "\n",
    "class developer ( employee ) :                      # sub class\n",
    "    def __init__ ( self , name , surname , salary , p_len ) :\n",
    "        # employee.__init__(name,surname,salary)  # veya\n",
    "        super ( ).__init__ ( name , surname , salary )\n",
    "        self.p_len = p_len\n",
    "        self.salary_increase_coefficient= 1.2\n",
    "\n",
    "\n",
    "class manager (employee):                             # sub class\n",
    "    def __init__(self,name,surname,salary,staff=None):\n",
    "        super().__init__(name,surname,salary)\n",
    "        if staff is None:\n",
    "            self.staff=[]\n",
    "        else:\n",
    "            self.staff=staff\n",
    "\n",
    "    def add_staff_member( self, staff_member ):\n",
    "        self.staff.append(staff_member)\n",
    "\n",
    "    def remove_staff_member( self, staff_member ):\n",
    "        self.staff.remove(staff_member)\n",
    "\n",
    "    def list_staff( self ):\n",
    "        for staff_member in self.staff:\n",
    "            print(staff_member.fullName())\n",
    "\n",
    "\n",
    "personal1 = employee( \"Fatih\" , \"Fidan\" , 5000 )\n",
    "personal2 = employee( \"Serap\" , \"Çelik\" , 4000 )\n",
    "\n",
    "developer1 = developer ( \"Bill\" , \"Gates\" ,7000, \"Python\" )\n",
    "print(developer1.fullName(), developer1.p_len, developer1.salary)\n",
    "developer1.salary_hike ( )\n",
    "print(developer1.salary)\n",
    "\n",
    "manager1 = manager ( \"Steve\" , \"Jobs\" , 10000 , [ developer1 , personal1 ] )\n",
    "print ( manager1.fullName ( ) )\n",
    "print()\n",
    "manager1.list_staff ( )\n",
    "print()\n",
    "manager1.add_staff_member ( personal2 )\n",
    "manager1.list_staff ( )\n",
    "print()\n",
    "manager1.remove_staff_member ( developer1 )\n",
    "manager1.list_staff ( )"
   ]
  },
  {
   "cell_type": "markdown",
   "id": "caring-durham",
   "metadata": {},
   "source": [
    "# multiinheritances_coklukalitim.py"
   ]
  },
  {
   "cell_type": "code",
   "execution_count": 13,
   "id": "strategic-missile",
   "metadata": {},
   "outputs": [
    {
     "name": "stdout",
     "output_type": "stream",
     "text": [
      "turnike atabilir\n",
      "koşabilir\n",
      "750\n",
      "ileri\n",
      "orta\n",
      "sol\n"
     ]
    }
   ],
   "source": [
    "class futbolcu():\n",
    "    kosu = \"koşabilir\"\n",
    "    depar = \"depar atar\"\n",
    "    maas = 500\n",
    "    def __init__(self,ayak=\"sağ\"):\n",
    "        self.mevki = \"orta\"\n",
    "        self.ayak = ayak\n",
    "    pass\n",
    "class basketbolcu():\n",
    "    turnike = \"turnike atabilir\"\n",
    "    ucluk = \"üçlük atabilir\"\n",
    "    maas = 750\n",
    "    def __init__(self):\n",
    "        self.bolge = \"ileri\"\n",
    "    pass\n",
    "class multisporcu(basketbolcu,futbolcu):\n",
    "    def __init__(self,ayak):\n",
    "        basketbolcu.__init__(self)\n",
    "        futbolcu.__init__(self,ayak)\n",
    "    pass\n",
    "mahmut = multisporcu(\"sol\")\n",
    "print(mahmut.turnike)\n",
    "print(mahmut.kosu)\n",
    "print(mahmut.maas)\n",
    "print(mahmut.bolge)\n",
    "print(mahmut.mevki)\n",
    "print(mahmut.ayak)"
   ]
  },
  {
   "cell_type": "markdown",
   "id": "built-bargain",
   "metadata": {},
   "source": [
    "# 5_class&static_method.py"
   ]
  },
  {
   "cell_type": "code",
   "execution_count": 6,
   "id": "rental-extent",
   "metadata": {},
   "outputs": [
    {
     "name": "stdout",
     "output_type": "stream",
     "text": [
      "Ali Candan 9000.0 alicandan@sirket.com\n"
     ]
    },
    {
     "data": {
      "text/plain": [
       "'\\nclass metodlar nesne üreten nesnedir. \\nmesela bir arayüzde bir butona basınca başka butonların üretilmesini istiyorsak\\nclass metod kullanırız.\\nclass metodlar çalışınca class içindeki variable lar ve instance metodların üretiği değer etkilenir.\\n\\nstatic metod çalışmasından class içindeki diğer metodlar etkilenmez, bağımsız çalışır,\\nstatic metod, class metod içinden veya instance metod içinden de çağırılabilir.\\n'"
      ]
     },
     "execution_count": 6,
     "metadata": {},
     "output_type": "execute_result"
    }
   ],
   "source": [
    "class employee :\n",
    "    salary_increase_coefficient = 1.05\n",
    "    stuff_num = 0\n",
    "\n",
    "    def __init__ (self , name , surname , salary) :\n",
    "        self.name = name\n",
    "        self.surname = surname\n",
    "        self.salary = salary\n",
    "        self.email = (self.name + self.surname).lower ( ) + \"@sirket.com\"\n",
    "        employee.stuff_num += 1\n",
    "\n",
    "    def fullName (self) :\n",
    "        return f\"Ad:{self.name} Soyad:{self.surname}\"\n",
    "\n",
    "    def salary_hike (self) :\n",
    "        self.salary *= self.salary_increase_coefficient\n",
    "\n",
    "    @classmethod\n",
    "    def change_salary_inc_coef (cls , new_rate) :\n",
    "        cls.salary_increase_coefficient = new_rate\n",
    "\n",
    "    @classmethod\n",
    "    def new_staff(cls,stuff_info):\n",
    "        name,surname,salary=stuff_info.split(\"-\")\n",
    "        return cls(name,surname,int(salary))\n",
    "\n",
    "    @staticmethod\n",
    "    def clear_blank(text):\n",
    "        return text.replace(\" \",\"\")\n",
    "\n",
    "personal1 = employee ( \"Fatih\" , \"Fidan\" , 5000 )\n",
    "personal2 = employee ( \"Serap\" , \"Çelik\" , 4000 )\n",
    "\n",
    "employee.salary_increase_coefficient=1.5\n",
    "# veya\n",
    "# employee.change_salary_inc_coef(1.5)\n",
    "\n",
    "mpersonel1=\"    Ali- Candan-6000\"\n",
    "mpersonel2=\"Polat-Alemdar-4500\"\n",
    "mpersonel1=employee.clear_blank(mpersonel1)\n",
    "\n",
    "new_personel1=employee.new_staff(mpersonel1)\n",
    "new_personel1.salary_hike()\n",
    "print(f\"{new_personel1.name} {new_personel1.surname} {new_personel1.salary} {new_personel1.email}\")\n",
    "\n",
    "\"\"\"\n",
    "class metodlar nesne üreten nesnedir. \n",
    "mesela bir arayüzde bir butona basınca başka butonların üretilmesini istiyorsak\n",
    "class metod kullanırız.\n",
    "class metodlar çalışınca class içindeki variable lar ve instance metodların üretiği değer etkilenir.\n",
    "\n",
    "static metod çalışmasından class içindeki diğer metodlar etkilenmez, bağımsız çalışır,\n",
    "static metod, class metod içinden veya instance metod içinden de çağırılabilir.\n",
    "\"\"\"\n",
    "\n"
   ]
  },
  {
   "cell_type": "markdown",
   "id": "stone-transfer",
   "metadata": {},
   "source": [
    "# 6_abstract_class.py"
   ]
  },
  {
   "cell_type": "code",
   "execution_count": 7,
   "id": "improving-catholic",
   "metadata": {},
   "outputs": [
    {
     "name": "stdout",
     "output_type": "stream",
     "text": [
      "bird\n",
      "walk\n",
      "run\n"
     ]
    }
   ],
   "source": [
    "from abc import ABC,abstractmethod  #abc :abstract base class\n",
    "\n",
    "class Animal(ABC): # super class\n",
    "    @abstractmethod  # buna abstract method decorator denir.\n",
    "    def walk( self ): pass\n",
    "\n",
    "    @abstractmethod\n",
    "    def run( self ): pass\n",
    "\n",
    "class Bird(Animal): # sub class\n",
    "    def __init__(self):\n",
    "        print(\"bird\")\n",
    "\n",
    "    def walk( self ):\n",
    "        print(\"walk\")\n",
    "\n",
    "    def run( self ):\n",
    "        print(\"run\")\n",
    "\n",
    "\n",
    "\"\"\"\n",
    "Python absract class için altyapı sağlamıyor, built in modül kullanarak bunu yaparız.\n",
    "Animal classını ABC den inherit ederek ve abstract method decorator kullanarak abstrack class yaparız.\n",
    "1-Abstrack class tan direkt olarak object türetilemez.\n",
    "2-Abstract class ta kullanılan bir method muhakkak sub classta kullanılmak zorunda\n",
    "\n",
    "\"\"\"\n",
    "# a1=Animal() # yanlış kullanım\n",
    "# Abstrack class tan direkt olarak object türetilemez.\n",
    "\n",
    "b1=Bird()\n",
    "b1.walk()\n",
    "b1.run()\n"
   ]
  },
  {
   "cell_type": "markdown",
   "id": "divided-smell",
   "metadata": {},
   "source": [
    "# 7-overriding.py"
   ]
  },
  {
   "cell_type": "code",
   "execution_count": 8,
   "id": "minor-resource",
   "metadata": {},
   "outputs": [
    {
     "name": "stdout",
     "output_type": "stream",
     "text": [
      "animal\n",
      "monkey\n"
     ]
    }
   ],
   "source": [
    "class Animal:\n",
    "    def toString( self ):\n",
    "        print(\"animal\")\n",
    "\n",
    "class Monkey(Animal):\n",
    "    def toString( self ):\n",
    "        print ( \"monkey\" )\n",
    "\n",
    "a1=Animal()\n",
    "a1.toString()\n",
    "\n",
    "m1=Monkey()\n",
    "m1.toString()"
   ]
  },
  {
   "cell_type": "markdown",
   "id": "generous-energy",
   "metadata": {},
   "source": [
    "# 9-Polimorfizm.py"
   ]
  },
  {
   "cell_type": "code",
   "execution_count": 9,
   "id": "american-arrest",
   "metadata": {},
   "outputs": [
    {
     "name": "stdout",
     "output_type": "stream",
     "text": [
      "110.0\n",
      "120.0\n",
      "130.0\n"
     ]
    }
   ],
   "source": [
    "class Employee:\n",
    "    def raisee( self ):\n",
    "        raise_rate=0.1\n",
    "        return 100+100*raise_rate\n",
    "\n",
    "class Ce(Employee):\n",
    "    def raisee( self ):\n",
    "        raise_rate=0.2\n",
    "        return 100+100*raise_rate\n",
    "\n",
    "class Eee(Employee):\n",
    "    def raisee( self ):\n",
    "        raise_rate=0.3\n",
    "        return 100+100*raise_rate\n",
    "\n",
    "# Aynı fonksiyon farklı değer döndürüyor. Aynı zamanda overriding.\n",
    "\n",
    "e1=Employee()\n",
    "print(e1.raisee())\n",
    "\n",
    "ce=Ce()\n",
    "ee=Eee()\n",
    "\n",
    "employees=[ce,ee]\n",
    "for employee in employees:\n",
    "    print ( employee.raisee ( ) )"
   ]
  },
  {
   "cell_type": "markdown",
   "id": "rolled-headset",
   "metadata": {},
   "source": [
    "# 10_dunder(magic)_methods.py"
   ]
  },
  {
   "cell_type": "code",
   "execution_count": 10,
   "id": "blond-irrigation",
   "metadata": {},
   "outputs": [
    {
     "name": "stdout",
     "output_type": "stream",
     "text": [
      "[5, 7, 9]\n",
      "[-3, -3, -3]\n"
     ]
    }
   ],
   "source": [
    "class myList ( list ) :  # sub class\n",
    "    def __add__ ( self , other ) :\n",
    "        \"\"\"\n",
    "        normalde list super classına ait [....]+[.....] işlemini yapan\n",
    "        __add__ fonksiyonu liste öğlerini birleştirerek tek liste yapar.\n",
    "        Ancak biz dunder yaparak __add__ metodunun kendimize göre nasıl çalışacağını belirledik.\n",
    "        aynı zamanda override yapmış olduk\n",
    "\n",
    "        \"\"\"\n",
    "        resultList = myList ( )\n",
    "        if len ( self ) == len ( other ) :\n",
    "            for i in range ( len ( self ) ) :\n",
    "                resultList.append ( self [ i ] + other [ i ] )\n",
    "            return resultList\n",
    "        return \"These lists cannot be summed with each other.\"\n",
    "\n",
    "    def __sub__ ( self , other ) :\n",
    "        \"\"\"\n",
    "        normalde list super classına ait [....]-[.....] işlemi yapan\n",
    "        fonksiyon yoktur.\n",
    "        Ancak biz dunder yaparak __sub__ metodu ile kendimize göre nasıl çalışacağını belirledik.\n",
    "        \"\"\"\n",
    "        resultList = myList ( )\n",
    "        if len ( self ) == len ( other ) :\n",
    "            for i in range ( len ( self ) ) :\n",
    "                resultList.append ( self [ i ] - other [ i ] )\n",
    "            return resultList\n",
    "        return \"These lists cannot be subtracted from each other.\"\n",
    "\n",
    "\n",
    "myList1 = myList ( [ 1 , 2 , 3 ] )\n",
    "myList2 = myList ( [ 4 , 5 , 6 ] )\n",
    "print ( myList1 + myList2 )\n",
    "print ( myList1 - myList2 )"
   ]
  },
  {
   "cell_type": "markdown",
   "id": "continuous-banana",
   "metadata": {},
   "source": [
    "# property_(getter)_setter_deletter_decorators.py"
   ]
  },
  {
   "cell_type": "code",
   "execution_count": 11,
   "id": "gentle-destination",
   "metadata": {},
   "outputs": [
    {
     "name": "stdout",
     "output_type": "stream",
     "text": [
      "ali\n",
      "alidemir@sirket.com\n",
      "ali demir\n",
      "değişince-----\n",
      "can\n",
      "canbakir@sirket.com\n",
      "can bakir\n",
      "kullanıcı bilgileri silindi\n",
      "None\n"
     ]
    },
    {
     "ename": "TypeError",
     "evalue": "unsupported operand type(s) for +: 'NoneType' and 'NoneType'",
     "output_type": "error",
     "traceback": [
      "\u001b[1;31m---------------------------------------------------------------------------\u001b[0m",
      "\u001b[1;31mTypeError\u001b[0m                                 Traceback (most recent call last)",
      "\u001b[1;32m<ipython-input-11-1fa82318d5ff>\u001b[0m in \u001b[0;36m<module>\u001b[1;34m\u001b[0m\n\u001b[0;32m     44\u001b[0m \u001b[1;33m\u001b[0m\u001b[0m\n\u001b[0;32m     45\u001b[0m \u001b[0mprint\u001b[0m\u001b[1;33m(\u001b[0m\u001b[0mpersonel1\u001b[0m\u001b[1;33m.\u001b[0m\u001b[0mad\u001b[0m\u001b[1;33m)\u001b[0m\u001b[1;33m\u001b[0m\u001b[1;33m\u001b[0m\u001b[0m\n\u001b[1;32m---> 46\u001b[1;33m \u001b[0mprint\u001b[0m\u001b[1;33m(\u001b[0m\u001b[0mpersonel1\u001b[0m\u001b[1;33m.\u001b[0m\u001b[0meposta\u001b[0m\u001b[1;33m)\u001b[0m\u001b[1;33m\u001b[0m\u001b[1;33m\u001b[0m\u001b[0m\n\u001b[0m\u001b[0;32m     47\u001b[0m \u001b[0mprint\u001b[0m\u001b[1;33m(\u001b[0m\u001b[0mpersonel1\u001b[0m\u001b[1;33m.\u001b[0m\u001b[0mtamad\u001b[0m\u001b[1;33m)\u001b[0m\u001b[1;33m\u001b[0m\u001b[1;33m\u001b[0m\u001b[0m\n",
      "\u001b[1;32m<ipython-input-11-1fa82318d5ff>\u001b[0m in \u001b[0;36meposta\u001b[1;34m(self)\u001b[0m\n\u001b[0;32m      6\u001b[0m     \u001b[1;33m@\u001b[0m\u001b[0mproperty\u001b[0m\u001b[1;33m\u001b[0m\u001b[1;33m\u001b[0m\u001b[0m\n\u001b[0;32m      7\u001b[0m     \u001b[1;32mdef\u001b[0m \u001b[0meposta\u001b[0m\u001b[1;33m(\u001b[0m\u001b[0mself\u001b[0m\u001b[1;33m)\u001b[0m\u001b[1;33m:\u001b[0m\u001b[1;33m\u001b[0m\u001b[1;33m\u001b[0m\u001b[0m\n\u001b[1;32m----> 8\u001b[1;33m         \u001b[0mself\u001b[0m\u001b[1;33m.\u001b[0m\u001b[0memail\u001b[0m \u001b[1;33m=\u001b[0m \u001b[0mself\u001b[0m\u001b[1;33m.\u001b[0m\u001b[0mad\u001b[0m \u001b[1;33m+\u001b[0m \u001b[0mself\u001b[0m\u001b[1;33m.\u001b[0m\u001b[0msoyad\u001b[0m \u001b[1;33m+\u001b[0m \u001b[1;34m\"@sirket.com\"\u001b[0m\u001b[1;33m\u001b[0m\u001b[1;33m\u001b[0m\u001b[0m\n\u001b[0m\u001b[0;32m      9\u001b[0m         \u001b[1;32mreturn\u001b[0m \u001b[0mself\u001b[0m\u001b[1;33m.\u001b[0m\u001b[0memail\u001b[0m\u001b[1;33m\u001b[0m\u001b[1;33m\u001b[0m\u001b[0m\n\u001b[0;32m     10\u001b[0m \u001b[1;33m\u001b[0m\u001b[0m\n",
      "\u001b[1;31mTypeError\u001b[0m: unsupported operand type(s) for +: 'NoneType' and 'NoneType'"
     ]
    }
   ],
   "source": [
    "class calisan():\n",
    "    def __init__(self,ad,soyad):\n",
    "        self.ad = ad\n",
    "        self.soyad = soyad\n",
    "\n",
    "    @property\n",
    "    def eposta(self):\n",
    "        self.email = self.ad + self.soyad + \"@sirket.com\"\n",
    "        return self.email\n",
    "\n",
    "    @property\n",
    "    def tamad(self):\n",
    "        return \"{} {}\".format(self.ad,self.soyad)\n",
    "\n",
    "    @tamad.setter\n",
    "    def tamad(self,gelenisim):\n",
    "        ad, soyad = gelenisim.split(\" \")\n",
    "        self.ad = ad\n",
    "        self.soyad = soyad\n",
    "\n",
    "    @tamad.deleter\n",
    "    def tamad(self):\n",
    "        self.ad = None\n",
    "        self.soyad = None\n",
    "        print(\"kullanıcı bilgileri silindi\")\n",
    "\n",
    "\n",
    "\n",
    "personel1 = calisan(\"ali\",\"demir\")\n",
    "\n",
    "# personel1.ad = \"can\"\n",
    "\n",
    "print(personel1.ad)\n",
    "print(personel1.eposta)\n",
    "print(personel1.tamad)\n",
    "\n",
    "personel1.tamad = \"can bakir\"\n",
    "print(\"değişince-----\")\n",
    "print(personel1.ad)\n",
    "print(personel1.eposta)\n",
    "print(personel1.tamad)\n",
    "\n",
    "del personel1.tamad\n",
    "\n",
    "print(personel1.ad)\n",
    "print(personel1.eposta)\n",
    "print(personel1.tamad)"
   ]
  },
  {
   "cell_type": "markdown",
   "id": "animal-router",
   "metadata": {},
   "source": [
    "# public_protected_private_variables.py"
   ]
  },
  {
   "cell_type": "code",
   "execution_count": 12,
   "id": "moderate-cache",
   "metadata": {},
   "outputs": [
    {
     "name": "stdout",
     "output_type": "stream",
     "text": [
      "Sporcu adı : ali, Branşı :100 Metre\n",
      "bronz madalya sayısı 9\n",
      "gümüş madalya sayısı 3\n",
      "altın madalya sayısı 2\n"
     ]
    }
   ],
   "source": [
    "class sporcu():\n",
    "    def __init__(self,ad,brans,altin,gumus,bronz):\n",
    "        self.ad = ad\n",
    "        self.brans = brans\n",
    "        self.mbronz = bronz #public veri halka açık değişken\n",
    "        self._mgumus = gumus #protected yarı gizli\n",
    "        self.__maltin = altin #private tam gizli\n",
    "    def atlet_bilgisi(self):\n",
    "        return \"Sporcu adı : {}, Branşı :{}\".format(atlet1.ad,atlet1.brans)\n",
    "    @property\n",
    "    def a_yazdir(self):\n",
    "        amadalya = self.__maltin\n",
    "        return \"altın madalya sayısı {}\".format(self.__maltin)\n",
    "\n",
    "atlet1 = sporcu(\"ali\",\"100 Metre\",2,3,9)\n",
    "print(atlet1.atlet_bilgisi())\n",
    "print(\"bronz madalya sayısı\",atlet1.mbronz)\n",
    "print(\"gümüş madalya sayısı\",atlet1._mgumus)\n",
    "print(atlet1.a_yazdir)"
   ]
  },
  {
   "cell_type": "markdown",
   "id": "billion-breed",
   "metadata": {},
   "source": [
    "# repr_and_str_2.py"
   ]
  },
  {
   "cell_type": "code",
   "execution_count": 14,
   "id": "utility-bleeding",
   "metadata": {},
   "outputs": [
    {
     "name": "stdout",
     "output_type": "stream",
     "text": [
      "Ad:Fatih Soyad:Fidan e-mail:fatihfidan@sirket.com\n",
      "employee (Serap, Çelik, serapçelik@sirket.com)\n"
     ]
    }
   ],
   "source": [
    "class employee :\n",
    "    salary_increase_coefficient = 1.05\n",
    "    stuff_num = 0\n",
    "\n",
    "    def __init__ (self , name , surname , salary) :\n",
    "        self.name = name\n",
    "        self.surname = surname\n",
    "        self.salary = salary\n",
    "        self.email = (self.name + self.surname).lower ( ) + \"@sirket.com\"\n",
    "        employee.stuff_num += 1\n",
    "\n",
    "    def fullName (self) :\n",
    "        return f\"Ad:{self.name} Soyad:{self.surname}\"\n",
    "\n",
    "    def salary_hike (self) :\n",
    "        self.salary *= self.salary_increase_coefficient\n",
    "\n",
    "    def __str__(self):\n",
    "        return f\"{self.fullName()} e-mail:{self.email}\"\n",
    "\n",
    "    def __repr__(self):\n",
    "        return f'employee ({self.name}, {self.surname}, {self.email})'\n",
    "\n",
    "\n",
    "personal1 = employee ( \"Fatih\" , \"Fidan\" , 5000 )\n",
    "personal2 = employee ( \"Serap\" , \"Çelik\" , 4000 )\n",
    "print(personal1)\n",
    "# normalde bu ifade nesnenin adresini dönderecek iken __str__ yeniden tanımlanarak yazdırabiliyoruz.\n",
    "\n",
    "print(repr(personal2))\n",
    "# normalde bu ifade nesnenin adresini dönderecek iken __repr__ yeniden tanımlanarak yazdırabiliyoruz.\n",
    "# repl fonksiyonunda geleneksel olarak classın özelliğini,adını vs bir şekilde içeremelidir. bu onun str den farkıdır."
   ]
  },
  {
   "cell_type": "markdown",
   "id": "beginning-poetry",
   "metadata": {},
   "source": [
    "# magic_dunder_methods.py"
   ]
  },
  {
   "cell_type": "code",
   "execution_count": 15,
   "id": "periodic-fitness",
   "metadata": {},
   "outputs": [
    {
     "name": "stdout",
     "output_type": "stream",
     "text": [
      "4450\n"
     ]
    }
   ],
   "source": [
    "class calisan:\n",
    "\n",
    "    zam_oranı = 1.05\n",
    "    per_say = 0\n",
    "\n",
    "    def __init__(self,ad,soyad,maas):\n",
    "        self.ad = ad\n",
    "        self.soyad = soyad\n",
    "        self.maas = maas\n",
    "        self.eposta = self.ad+self.soyad+\"@sirket.com\"\n",
    "        calisan.per_say = calisan.per_say + 1\n",
    "    def tamad(self):\n",
    "        return \"adı : {}  soyadı : {}\".format(self.ad,self.soyad)\n",
    "\n",
    "    def arttir(self):\n",
    "        # self.maas = (self.maas*1.05)\n",
    "        # self.maas = (self.maas * calisan.zam_oranı)\n",
    "        self.maas = (self.maas * self.zam_oranı)\n",
    "\n",
    "    def __repr__(self):\n",
    "        return \"calisan('{}','{}','{}')\".format(self.ad,self.soyad,self.maas)\n",
    "\n",
    "    def __str__(self):\n",
    "        return \"{} , eposta : {}\".format(self.tamad(),self.eposta)\n",
    "    def __add__(self, other):\n",
    "        return self.maas + other.maas\n",
    "\n",
    "personel1 = calisan(\"ali\",\"demir\",2500)\n",
    "personel2 = calisan(\"kerim\",\"bakir\",1950)\n",
    "\n",
    "print(personel1 + personel2)\n",
    "\n",
    "# print(5+9)\n",
    "# print(\"ali\"+\"veli\")\n",
    "\n",
    "# print(int.__add__(5,9))\n",
    "# print(str.__add__(\"ali\",\"veli\"))\n",
    "\n",
    "# print(personel1)\n",
    "# print(personel1.__repr__())\n",
    "# print(repr(personel1))\n",
    "# print(str(personel1))\n",
    "# print(personel1.__str__())"
   ]
  },
  {
   "cell_type": "markdown",
   "id": "legitimate-welding",
   "metadata": {},
   "source": [
    "# isinstance.py"
   ]
  },
  {
   "cell_type": "code",
   "execution_count": 16,
   "id": "traditional-brooks",
   "metadata": {},
   "outputs": [
    {
     "name": "stdout",
     "output_type": "stream",
     "text": [
      "True\n",
      "False\n",
      "True\n"
     ]
    }
   ],
   "source": [
    "class Dog:\n",
    "    def __init__(self, name, age):\n",
    "        self.name = name\n",
    "        self.age = age\n",
    "\n",
    "class Terrier(Dog):\n",
    "    pass\n",
    "\n",
    "class Dachshund(Dog):\n",
    "    pass\n",
    "\n",
    "class Bulldog(Dog):\n",
    "    pass\n",
    "\n",
    "dog1 = Terrier(\"Miles\", 4)\n",
    "dog2 = Dachshund(\"Buddy\", 9)\n",
    "dog3 = Bulldog(\"Jack\", 3)\n",
    "dog4 = Bulldog(\"Jim\", 5)\n",
    "\n",
    "print(isinstance(dog4, Dog))\n",
    "print(isinstance(dog1, Bulldog))\n",
    "print(isinstance(dog1, Terrier))"
   ]
  },
  {
   "cell_type": "markdown",
   "id": "handed-enlargement",
   "metadata": {},
   "source": [
    "# issubclass.py"
   ]
  },
  {
   "cell_type": "code",
   "execution_count": null,
   "id": "trying-syracuse",
   "metadata": {},
   "outputs": [],
   "source": [
    "class Car:\n",
    "    pass\n",
    "\n",
    "\n",
    "class Buggati ( Car ):\n",
    "    pass\n",
    "\n",
    "print(issubclass(Buggati, Car))"
   ]
  },
  {
   "cell_type": "markdown",
   "id": "offshore-pressure",
   "metadata": {},
   "source": [
    "# multiclass.py"
   ]
  },
  {
   "cell_type": "code",
   "execution_count": 17,
   "id": "generous-spokesman",
   "metadata": {},
   "outputs": [
    {
     "name": "stdout",
     "output_type": "stream",
     "text": [
      "185\n",
      "depar atar\n",
      "turnike atabilir\n",
      "550\n",
      "hızlı koşabilir\n",
      "yükseğe zıplayabilir\n"
     ]
    }
   ],
   "source": [
    "class futbolcu():\n",
    "    kazanc = 550\n",
    "    kosu = \"hızlı koşabilir\"\n",
    "    def __init__(self):\n",
    "        self.depar = \"depar atar\"\n",
    "\n",
    "class basketbolcu():\n",
    "    kazanc = 750\n",
    "    ziplama = \"yükseğe zıplayabilir\"\n",
    "    def __init__(self,boy = 190):\n",
    "        self.boy = boy\n",
    "        self.turnike = \"turnike atabilir\"\n",
    "class multisporcu(futbolcu,basketbolcu):\n",
    "    def __init__(self):\n",
    "        futbolcu.__init__(self)\n",
    "        # basketbolcu.__init__(self)\n",
    "        basketbolcu.__init__(self,185)\n",
    "mahmut = multisporcu()\n",
    "print(mahmut.boy)\n",
    "print(mahmut.depar)\n",
    "print(mahmut.turnike)\n",
    "print(mahmut.kazanc)\n",
    "print(mahmut.kosu)\n",
    "print(mahmut.ziplama)"
   ]
  },
  {
   "cell_type": "code",
   "execution_count": null,
   "id": "demographic-projection",
   "metadata": {},
   "outputs": [],
   "source": []
  }
 ],
 "metadata": {
  "kernelspec": {
   "display_name": "Python 3",
   "language": "python",
   "name": "python3"
  },
  "language_info": {
   "codemirror_mode": {
    "name": "ipython",
    "version": 3
   },
   "file_extension": ".py",
   "mimetype": "text/x-python",
   "name": "python",
   "nbconvert_exporter": "python",
   "pygments_lexer": "ipython3",
   "version": "3.8.5"
  }
 },
 "nbformat": 4,
 "nbformat_minor": 5
}
