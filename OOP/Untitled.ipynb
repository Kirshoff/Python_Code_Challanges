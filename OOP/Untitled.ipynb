{
 "cells": [
  {
   "cell_type": "markdown",
   "id": "exact-dutch",
   "metadata": {},
   "source": [
    "Bir cep telefonu fabrikasi (class) oldugunu ve bu fabrikada uretilmis 5 farkli model (obje) uretildigini dusunelim. Telefonun id,marka, model, uretim yili, tel nosu gibi ozelliklere sahip olsun (Instance Attributes). Yazdigimiz kod ile herbir telefonun ozelliklerine tek tek ulasabildigimiz gibi herhangi bir telefonun tum bilgilerinede (instance methot) ulasabilelim.\n",
    "\n",
    "Uc (obje) adet cep telefonuna (class) sahip oldugumuzu dusunelim. Cep telefonlarinin modeli,hangi tarihte aldigimiz ve ne kadara aldigimiz bilgileri ile birlikte her telefona ait rehber bilgisi olsun (instance attribute) (rehber bilgisini her objeye ait bir sozluk tanimlayarak olusturula bilinir). Daha sonra her cep telefonundaki rehberden kisi bulma-search (instance methot) kisi ekleme (instance methot) ve kisi silme secenekleri olsun.\n",
    "\n",
    "yazacagimiz kod ile\n",
    "\n",
    "1) tum telefon bilgilerini getirme (classmethod)\n",
    "2) ayri ayri telefon bilgilerini getirme (instance method)\n",
    "3) telefon fiyatlarini kucukten buyuge dogru siralama (class methot)\n",
    "4) her bir telefona \n",
    "\ta) Rehberi goruntuleme (instance method)\n",
    "    \tb) rehberde kisi varmi yokmu aramasi yapma (instance method)\n",
    "\tc) rehbere kisi ekleme (eger ayni kisi varsa uyari vermeli ve tekrar sorgu ekranina donmeli)(instance method) (yazacaginiz if else gibi sorgulama komutlarini instance methot icindede yazabilirsiniz)\n",
    "\td) rehberden kisi silme ( eger silinmesini istedigimiz kisi yok ise uyari vermeli)(instance method)\n",
    "Bir okul dusunelim bu okulda ogrencilerden olusan objeler olusturalim her ogrencinin tc,isim,soyisim,matematik yil sonu not ortolamasi,fizik ders sonu not ortalamasi, turkce yil sonu not ortalamasi bilgileri olsun.\n",
    "\n",
    "a)okulda kac ogrencinin oldugunu gosteren b) her bir dersten gecme notunun 50 oldugunu dusunursek matematik dersinden gecen ogrencilerin ismini gosteren fizik dersinden gecen ogrencilerin ismini gosteren turkce dersinden gecen isimlerin ismini ve notlarini birlikte gosteren c)uc notun ortalamasinin 50 ustunde olanlarin isi sinifi gectigini dusunursek sinifi gecenlerin tum bilgilerini gosteren programi yaziniz."
   ]
  },
  {
   "cell_type": "code",
   "execution_count": null,
   "id": "pressing-silence",
   "metadata": {},
   "outputs": [],
   "source": []
  }
 ],
 "metadata": {
  "kernelspec": {
   "display_name": "Python 3",
   "language": "python",
   "name": "python3"
  },
  "language_info": {
   "codemirror_mode": {
    "name": "ipython",
    "version": 3
   },
   "file_extension": ".py",
   "mimetype": "text/x-python",
   "name": "python",
   "nbconvert_exporter": "python",
   "pygments_lexer": "ipython3",
   "version": "3.8.5"
  }
 },
 "nbformat": 4,
 "nbformat_minor": 5
}
