{
 "cells": [
  {
   "cell_type": "markdown",
   "metadata": {},
   "source": [
    "# Data Manipulation\n",
    "\n",
    "https://www.sololearn.com/learning/eom-project/1093/111"
   ]
  },
  {
   "cell_type": "code",
   "execution_count": null,
   "metadata": {},
   "outputs": [],
   "source": [
    "import numpy as np\n",
    "n, p = [int(x) for x in input().split()]\n",
    "\n",
    "arr=[]\n",
    "\n",
    "for i in range(n):\n",
    "    arr+=[float(x) for x in input().split()]\n",
    "print(np.array(arr).reshape(n,p).mean(axis=1).round(2))"
   ]
  },
  {
   "cell_type": "code",
   "execution_count": 74,
   "metadata": {},
   "outputs": [
    {
     "name": "stdout",
     "output_type": "stream",
     "text": [
      "1 2\n",
      "1 2 3\n",
      "[2.]\n"
     ]
    }
   ],
   "source": [
    "import numpy as np\n",
    "n, p =map(int,input().split())\n",
    "\n",
    "arr=[]\n",
    "\n",
    "for i in range(n):\n",
    "    arr.append(list(map(float,input().split())))\n",
    "print(np.array(arr).mean(axis=1).round(2))"
   ]
  },
  {
   "cell_type": "code",
   "execution_count": null,
   "metadata": {},
   "outputs": [],
   "source": [
    "import numpy as np\n",
    "n, p = [int(x) for x in input().split()]\n",
    "m = []\n",
    "for i in range(n):\n",
    "    m.append(input().split())\n",
    "m_array = np.array([m], dtype= 'float')\n",
    "rm_array = m_array.reshape(n, p)\n",
    "resul = []\n",
    "y = 0\n",
    "while y < n: \n",
    "    resul.append(rm_array [y, :].mean().round(2))\n",
    "    y += 1\n",
    "resul_array = np.array(resul)\n",
    "print(resul_array)"
   ]
  },
  {
   "cell_type": "markdown",
   "metadata": {},
   "source": [
    "### .agg"
   ]
  },
  {
   "cell_type": "code",
   "execution_count": 83,
   "metadata": {},
   "outputs": [
    {
     "name": "stdout",
     "output_type": "stream",
     "text": [
      "                       min  median  max\n",
      "party                                  \n",
      "democratic             168     180  193\n",
      "democratic-republican  163     177  189\n",
      "federalist             170     170  170\n",
      "national union         178     178  178\n",
      "none                   189     189  189\n",
      "republican             168     182  193\n",
      "whig                   173     174  183\n"
     ]
    }
   ],
   "source": [
    "import pandas as pd\n",
    "import numpy as np\n",
    "\n",
    "presidents_df = pd.read_csv('https://sololearn.com/uploads/files/president_heights_party.csv', index_col='name')\n",
    "                                  \n",
    "print(presidents_df.groupby('party')['height'].agg(['min', np.median, max]))"
   ]
  },
  {
   "cell_type": "code",
   "execution_count": 84,
   "metadata": {},
   "outputs": [
    {
     "name": "stdout",
     "output_type": "stream",
     "text": [
      "                      height             age    \n",
      "                      median        mean min max\n",
      "party                                           \n",
      "democratic               180  181.066667  43  65\n",
      "democratic-republican    177  176.500000  57  58\n",
      "federalist               170  170.000000  61  61\n",
      "national union           178  178.000000  56  56\n",
      "none                     189  189.000000  57  57\n",
      "republican               182  180.894737  42  70\n",
      "whig                     174  176.000000  50  68\n"
     ]
    }
   ],
   "source": [
    "import pandas as pd\n",
    "import numpy as np\n",
    "\n",
    "presidents_df = pd.read_csv('https://sololearn.com/uploads/files/president_heights_party.csv', index_col='name')\n",
    "                                  \n",
    "print(presidents_df.groupby('party')\\\n",
    "    .agg({'height': [np.median, np.mean],\n",
    "        'age':    [min, max]}))"
   ]
  },
  {
   "cell_type": "markdown",
   "metadata": {},
   "source": [
    "# Data_Analysis\n",
    "https://www.sololearn.com/learning/eom-project/1093/112"
   ]
  },
  {
   "cell_type": "code",
   "execution_count": 86,
   "metadata": {},
   "outputs": [
    {
     "name": "stdout",
     "output_type": "stream",
     "text": [
      "2\n",
      "1 2 3 4\n",
      "[[1. 2.]\n",
      " [3. 4.]]\n"
     ]
    }
   ],
   "source": [
    "import pandas as pd\n",
    "import numpy as np\n",
    "\n",
    "r = int(input()) \n",
    "lst = [float(x) for x in input().split()]\n",
    "arr = np.array(lst).reshape(r,len(lst)//r)\n",
    "print(arr)"
   ]
  },
  {
   "cell_type": "code",
   "execution_count": null,
   "metadata": {},
   "outputs": [],
   "source": []
  }
 ],
 "metadata": {
  "kernelspec": {
   "display_name": "Python 3",
   "language": "python",
   "name": "python3"
  },
  "language_info": {
   "codemirror_mode": {
    "name": "ipython",
    "version": 3
   },
   "file_extension": ".py",
   "mimetype": "text/x-python",
   "name": "python",
   "nbconvert_exporter": "python",
   "pygments_lexer": "ipython3",
   "version": "3.8.5"
  }
 },
 "nbformat": 4,
 "nbformat_minor": 4
}
